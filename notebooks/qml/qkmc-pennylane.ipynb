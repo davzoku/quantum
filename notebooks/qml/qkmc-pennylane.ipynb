{
 "cells": [
  {
   "cell_type": "markdown",
   "id": "73e10d8b-a3c7-43d0-a608-e1b9dd8ba965",
   "metadata": {},
   "source": [
    "# Quantum K-Means Clustering\n",
    "\n",
    "1. Performs K-Means Clustering on Iris dataset using different number of cluster\n",
    "2. Then, classify a new point using quantum swap test.\n",
    "\n",
    "Theory Reference: [Quantum machine learning: distance estimation for k-means clustering | by Sashwat Anagolum | Towards Data Science](https://towardsdatascience.com/quantum-machine-learning-distance-estimation-for-k-means-clustering-26bccfbfcc76)"
   ]
  },
  {
   "cell_type": "code",
   "execution_count": 6,
   "id": "eabe3d2d-e076-4b83-84c9-bb20253d7ce4",
   "metadata": {},
   "outputs": [],
   "source": [
    "import pennylane as qml\n",
    "from pennylane import numpy as np\n",
    "from pennylane.templates import AmplitudeEmbedding, AngleEmbedding\n",
    "import matplotlib.pyplot as plt\n",
    "import random\n",
    "\n",
    "from sklearn.datasets import load_iris\n",
    "from sklearn.model_selection import train_test_split\n",
    "from sklearn.cluster import KMeans\n",
    "from mpl_toolkits.mplot3d import Axes3D\n",
    "\n",
    "import warnings\n",
    "warnings.filterwarnings('ignore')\n",
    "\n",
    "random.seed(42)"
   ]
  },
  {
   "cell_type": "markdown",
   "id": "7d029e4a-a6b5-41d0-950e-394073910d5a",
   "metadata": {},
   "source": [
    "## Load Data"
   ]
  },
  {
   "cell_type": "code",
   "execution_count": 2,
   "id": "ee7a002f-c782-4cab-bbe1-f52c41955f7e",
   "metadata": {},
   "outputs": [
    {
     "name": "stdout",
     "output_type": "stream",
     "text": [
      "[5.1 3.5 1.4 0.2] 0\n"
     ]
    }
   ],
   "source": [
    "X, Y = load_iris(return_X_y=True)\n",
    "\n",
    "#Split and view data\n",
    "X_train, X_test, Y_train, Y_test = train_test_split(X, Y)\n",
    "print(X[0], Y[0])"
   ]
  },
  {
   "cell_type": "markdown",
   "id": "e4372240-299f-48c1-a68f-e097645df22b",
   "metadata": {},
   "source": [
    "## K-Means and Plot"
   ]
  },
  {
   "cell_type": "code",
   "execution_count": 3,
   "id": "00a45008-b457-4454-80bb-315d33e64aa6",
   "metadata": {},
   "outputs": [
    {
     "data": {
      "text/plain": [
       "<Figure size 800x600 with 0 Axes>"
      ]
     },
     "metadata": {},
     "output_type": "display_data"
    },
    {
     "data": {
      "text/plain": [
       "<Figure size 800x600 with 0 Axes>"
      ]
     },
     "metadata": {},
     "output_type": "display_data"
    },
    {
     "data": {
      "text/plain": [
       "<Figure size 800x600 with 0 Axes>"
      ]
     },
     "metadata": {},
     "output_type": "display_data"
    },
    {
     "data": {
      "text/plain": [
       "<Figure size 800x600 with 0 Axes>"
      ]
     },
     "metadata": {},
     "output_type": "display_data"
    }
   ],
   "source": [
    "X, y = load_iris(return_X_y=True)\n",
    "\n",
    "#Split and view data\n",
    "X_train, X_test, Y_train, Y_test = train_test_split(X, y)\n",
    "\n",
    "\n",
    "estimators = [('k_means_iris_8', KMeans(n_clusters=8)),\n",
    "              ('k_means_iris_3', KMeans(n_clusters=3)),\n",
    "              ('k_means_iris_bad_init', KMeans(n_clusters=3, n_init=1,\n",
    "                                               init='random'))]\n",
    "\n",
    "\n",
    "def addLabels():\n",
    "    ax.w_xaxis.set_ticklabels([])\n",
    "    ax.w_yaxis.set_ticklabels([])\n",
    "    ax.w_zaxis.set_ticklabels([])\n",
    "    ax.set_xlabel('Petal width')\n",
    "    ax.set_ylabel('Sepal length')\n",
    "    ax.set_zlabel('Petal length')\n",
    "\n",
    "fignum = 1\n",
    "titles = ['8 clusters', '3 clusters', '3 clusters, bad initialization']\n",
    "for name, est in estimators:\n",
    "    fig = plt.figure(fignum, figsize=(8, 6))\n",
    "    ax = Axes3D(fig, rect=[0, 0, .95, 1], elev=48, azim=134)\n",
    "    est.fit(X)\n",
    "    labels = est.labels_\n",
    "\n",
    "    ax.scatter(X[:, 3], X[:, 0], X[:, 2],\n",
    "               c=labels.astype(float), edgecolor='k', s=100)\n",
    "\n",
    "    addLabels()\n",
    "    ax.set_title(titles[fignum - 1])\n",
    "    ax.dist = 12\n",
    "    fignum = fignum + 1\n",
    "\n",
    "# Plot the ground truth\n",
    "fig = plt.figure(fignum, figsize=(8, 6))\n",
    "ax = Axes3D(fig, rect=[0, 0, .95, 1], elev=48, azim=134)\n",
    "\n",
    "for name, label in [('Setosa', 0),\n",
    "                    ('Versicolour', 1),\n",
    "                    ('Virginica', 2)]:\n",
    "    ax.text3D(X[y == label, 3].mean(),\n",
    "              X[y == label, 0].mean(),\n",
    "              X[y == label, 2].mean() + 2, name,\n",
    "              horizontalalignment='center',\n",
    "              bbox=dict(alpha=.2, edgecolor='w', facecolor='w'))\n",
    "# Reorder the labels to have colors matching the cluster results\n",
    "y = np.choose(y, [1, 2, 0]).astype(float)\n",
    "ax.scatter(X[:, 3], X[:, 0], X[:, 2], c=y, edgecolor='k', s=100)\n",
    "\n",
    "addLabels()\n",
    "ax.set_title('Ground Truth')\n",
    "ax.dist = 12\n",
    "\n",
    "fig.show()"
   ]
  },
  {
   "cell_type": "markdown",
   "id": "acac3e40-bdd2-453d-b28e-217b1cf4cc2d",
   "metadata": {},
   "source": [
    "## Plot Means & Random Point"
   ]
  },
  {
   "cell_type": "code",
   "execution_count": 7,
   "id": "95108905-a0d0-4db9-8940-14217eb121e1",
   "metadata": {},
   "outputs": [
    {
     "data": {
      "text/plain": [
       "<Figure size 400x300 with 0 Axes>"
      ]
     },
     "metadata": {},
     "output_type": "display_data"
    }
   ],
   "source": [
    "randPoint = [random.randint(0, 2500)/1000, random.randint(5000, 7000)/1000, random.randint(1000, 6000)/1000]\n",
    "\n",
    "fig = plt.figure(fignum, figsize=(4, 3))\n",
    "ax = Axes3D(fig, rect=[0, 0, .95, 1], elev=48, azim=134)\n",
    "means = []\n",
    "for name, label in [('Setosa', 0),('Versicolour', 1),('Virginica', 2)]:\n",
    "    means.append([X[Y == label, 3].mean(), X[Y == label, 0].mean(),X[Y == label, 2].mean()])\n",
    "    ax.scatter(*means[-1],edgecolor='k', s=100)\n",
    "    ax.text3D(X[y == label, 3].mean(),X[y == label, 0].mean(),\n",
    "              X[y == label, 2].mean()+0.25, name,\n",
    "              horizontalalignment='center',\n",
    "              bbox=dict(alpha=.2, edgecolor='w', facecolor='w'))\n",
    "ax.scatter(*randPoint, edgecolor='k', s=250)\n",
    "addLabels()"
   ]
  },
  {
   "cell_type": "markdown",
   "id": "2ea2d151-d559-4c42-9ee5-b29eb09b2630",
   "metadata": {},
   "source": [
    "## Classify a new point using Quantum Swap Test\n",
    "\n",
    "classify a new point based on its similarity to mean points using the quantum swap test, comparing the embedded new point with embedded mean points and determining the closest match."
   ]
  },
  {
   "cell_type": "code",
   "execution_count": 8,
   "id": "e2dd5fb6-66c8-4163-a268-6c3ca91e05b3",
   "metadata": {},
   "outputs": [
    {
     "name": "stdout",
     "output_type": "stream",
     "text": [
      "Random Point: [0.456, 5.051, 3.253]\n",
      "Result 0: 0.38629757609603277\n",
      "Result 1: 0.515266070890518\n",
      "Result 2: 0.043255883807700846\n",
      "Actual Distance: 0: 1.8038309233406549 | [0.24599999999999997, 5.006, 1.4620000000000002]\n",
      "Actual Distance: 1: 1.5981783379835928 | [1.3259999999999998, 5.936, 4.26]\n",
      "Actual Distance: 2: 3.1800424525468207 | [2.0260000000000002, 6.587999999999998, 5.5520000000000005]\n",
      "This point is classified in class 1 which corresponds to Versicolour\n"
     ]
    }
   ],
   "source": [
    "\"\"\"\n",
    "1. Embed New Point into Qubits\n",
    "2. Embed a Mean Point into Qubits\n",
    "3. Classify New Point based on results\n",
    "\n",
    "Do CSWAP and get the result that is closest\n",
    "\"\"\"\n",
    "n_qubits = 7\n",
    "dev = qml.device(\"default.qubit\", wires=n_qubits)\n",
    "@qml.qnode(dev)\n",
    "def SwapTest(params):\n",
    "    qml.Hadamard(wires=0)\n",
    "    AngleEmbedding(params[0], wires=[1, 2, 3])\n",
    "    AngleEmbedding(params[1], wires=[4, 5, 6])\n",
    "    qml.CSWAP(wires=[0, 1, 4])\n",
    "    qml.CSWAP(wires=[0, 2, 5])\n",
    "    qml.CSWAP(wires=[0, 3, 6])\n",
    "    qml.Hadamard(wires=0)\n",
    "    return qml.expval(qml.PauliZ(0))\n",
    "results = []\n",
    "classes = ['Setosa','Versicolour','Virginica']\n",
    "for i in range(len(means)):\n",
    "    params = [means[i], randPoint]\n",
    "    results.append( SwapTest(params))\n",
    "\n",
    "#Print Data\n",
    "locus = results.index(max(results))\n",
    "print(\"Random Point: \" + str(randPoint))\n",
    "for i in range(len(results)):\n",
    "    print(\"Result \" + str(i) + \": \" + str(results[i]))\n",
    "for i in range(len(means)):\n",
    "    dist = sum((p-q)**2 for p, q in zip(means[i], randPoint)) ** .5\n",
    "    print(\"Actual Distance: \" + str(i) + \": \" + str(dist) + \" | \" + str(means[i]))\n",
    "print(\"This point is classified in class \" + str(locus) + \" which corresponds to \" + classes[locus])"
   ]
  },
  {
   "cell_type": "code",
   "execution_count": null,
   "id": "7c390b08-6d8f-4bcd-9c22-b243d66cfd32",
   "metadata": {},
   "outputs": [],
   "source": []
  }
 ],
 "metadata": {
  "kernelspec": {
   "display_name": "Python 3 (ipykernel)",
   "language": "python",
   "name": "python3"
  },
  "language_info": {
   "codemirror_mode": {
    "name": "ipython",
    "version": 3
   },
   "file_extension": ".py",
   "mimetype": "text/x-python",
   "name": "python",
   "nbconvert_exporter": "python",
   "pygments_lexer": "ipython3",
   "version": "3.9.16"
  }
 },
 "nbformat": 4,
 "nbformat_minor": 5
}
